{
  "nbformat": 4,
  "nbformat_minor": 0,
  "metadata": {
    "colab": {
      "provenance": []
    },
    "kernelspec": {
      "name": "python3",
      "display_name": "Python 3"
    },
    "language_info": {
      "name": "python"
    }
  },
  "cells": [
    {
      "cell_type": "code",
      "execution_count": 3,
      "metadata": {
        "id": "ePrJ_GmPjcds"
      },
      "outputs": [],
      "source": [
        "#texto\n",
        "import pandas as pd\n",
        "import numpy as np\n",
        "import matplotlib.pyplot as plt\n",
        "import statsmodels.api as sms\n"
      ]
    },
    {
      "cell_type": "code",
      "source": [
        "data_food=pd.read_excel(\"food.xlsx\")"
      ],
      "metadata": {
        "id": "b_XJm4bZ8MB5"
      },
      "execution_count": 5,
      "outputs": []
    },
    {
      "cell_type": "code",
      "source": [
        "data_food.head()"
      ],
      "metadata": {
        "id": "Y6tO2udh8nyY"
      },
      "execution_count": null,
      "outputs": []
    },
    {
      "cell_type": "code",
      "source": [
        "data_food.tail()"
      ],
      "metadata": {
        "id": "_cnPs4KV_DUm"
      },
      "execution_count": null,
      "outputs": []
    },
    {
      "cell_type": "code",
      "source": [
        "x_food=data_food[\"income\"]\n",
        "y_food=data_food[\"food_exp\"]"
      ],
      "metadata": {
        "id": "sDBuS1Un_Lpb"
      },
      "execution_count": 12,
      "outputs": []
    },
    {
      "cell_type": "code",
      "source": [
        "plt.boxplot(x_food)\n",
        "plt.show()"
      ],
      "metadata": {
        "id": "VQYRBp02_v5R"
      },
      "execution_count": null,
      "outputs": []
    },
    {
      "cell_type": "code",
      "source": [
        "plt.boxplot(y_food)\n",
        "plt.show()"
      ],
      "metadata": {
        "id": "CrDsqXV7ADrp"
      },
      "execution_count": null,
      "outputs": []
    },
    {
      "cell_type": "code",
      "source": [
        "plt.scatter(x=x_food, y=y_food)\n",
        "plt.title(\"Gasto vs Ingreso\")\n",
        "plt.xlabel(\"Income\")\n",
        "plt.ylabel(\"Gasto en alimentación\")\n",
        "plt.grid()\n",
        "plt.show()"
      ],
      "metadata": {
        "id": "WnGwmVJlAW1H"
      },
      "execution_count": null,
      "outputs": []
    },
    {
      "cell_type": "code",
      "source": [
        "#regresiones con statsmodel\n",
        "X = sms.add_constant(x_food)"
      ],
      "metadata": {
        "id": "rZXiZKR8Aa-E"
      },
      "execution_count": 17,
      "outputs": []
    },
    {
      "cell_type": "code",
      "source": [
        "food_model=sms.OLS(y_food, X)"
      ],
      "metadata": {
        "id": "qsgq64EsBdFg"
      },
      "execution_count": 18,
      "outputs": []
    },
    {
      "cell_type": "code",
      "source": [
        "model_ajusted=food_model.fit()"
      ],
      "metadata": {
        "id": "35iUv9IoBkiJ"
      },
      "execution_count": 19,
      "outputs": []
    },
    {
      "cell_type": "code",
      "source": [
        "print(model_ajusted.summary())"
      ],
      "metadata": {
        "colab": {
          "base_uri": "https://localhost:8080/"
        },
        "id": "GXwtOaToBrP0",
        "outputId": "79996ec9-e6ac-4124-bf86-e315b7059aa2"
      },
      "execution_count": 22,
      "outputs": [
        {
          "output_type": "stream",
          "name": "stdout",
          "text": [
            "                            OLS Regression Results                            \n",
            "==============================================================================\n",
            "Dep. Variable:               food_exp   R-squared:                       0.385\n",
            "Model:                            OLS   Adj. R-squared:                  0.369\n",
            "Method:                 Least Squares   F-statistic:                     23.79\n",
            "Date:                Tue, 15 Aug 2023   Prob (F-statistic):           1.95e-05\n",
            "Time:                        02:30:07   Log-Likelihood:                -235.51\n",
            "No. Observations:                  40   AIC:                             475.0\n",
            "Df Residuals:                      38   BIC:                             478.4\n",
            "Df Model:                           1                                         \n",
            "Covariance Type:            nonrobust                                         \n",
            "==============================================================================\n",
            "                 coef    std err          t      P>|t|      [0.025      0.975]\n",
            "------------------------------------------------------------------------------\n",
            "const         83.4160     43.410      1.922      0.062      -4.463     171.295\n",
            "income        10.2096      2.093      4.877      0.000       5.972      14.447\n",
            "==============================================================================\n",
            "Omnibus:                        0.277   Durbin-Watson:                   1.894\n",
            "Prob(Omnibus):                  0.870   Jarque-Bera (JB):                0.063\n",
            "Skew:                          -0.097   Prob(JB):                        0.969\n",
            "Kurtosis:                       2.989   Cond. No.                         63.7\n",
            "==============================================================================\n",
            "\n",
            "Notes:\n",
            "[1] Standard Errors assume that the covariance matrix of the errors is correctly specified.\n"
          ]
        }
      ]
    },
    {
      "cell_type": "code",
      "source": [
        "plt.scatter(x=x_food, y=y_food)\n",
        "plt.plot(x_food, model_ajusted.fittedvalues, \"red\")\n",
        "plt.title(\"Gasto vs Ingreso\")\n",
        "plt.xlabel(\"Income\")\n",
        "plt.ylabel(\"Gasto en alimentación\")\n",
        "plt.grid()\n",
        "plt.show()"
      ],
      "metadata": {
        "id": "5mpt0W-dC1zZ"
      },
      "execution_count": null,
      "outputs": []
    },
    {
      "cell_type": "code",
      "source": [
        "#Ciclos, Condicionales, Funciones\n",
        "ciudades=[\"Bg\", \"Cl\", \"Ln\", \"Mi\", \"Ef\", \"Pt\"]"
      ],
      "metadata": {
        "id": "fRHZ9YWRDEGl"
      },
      "execution_count": 27,
      "outputs": []
    },
    {
      "cell_type": "code",
      "source": [
        "for i in ciudades:\n",
        "  print(i)"
      ],
      "metadata": {
        "id": "L9LGY2rqEEMl"
      },
      "execution_count": null,
      "outputs": []
    },
    {
      "cell_type": "code",
      "source": [
        "for i in range(15):\n",
        "  print(f\"mi numero es {i} y su cuadrado es {i**2}\")"
      ],
      "metadata": {
        "colab": {
          "base_uri": "https://localhost:8080/"
        },
        "id": "DZrKhbM4EHE8",
        "outputId": "490d785a-285f-46aa-ed5c-179a6dcc6d52"
      },
      "execution_count": 32,
      "outputs": [
        {
          "output_type": "stream",
          "name": "stdout",
          "text": [
            "mi numero es 0 y su cuadrado es 0\n",
            "mi numero es 1 y su cuadrado es 1\n",
            "mi numero es 2 y su cuadrado es 4\n",
            "mi numero es 3 y su cuadrado es 9\n",
            "mi numero es 4 y su cuadrado es 16\n",
            "mi numero es 5 y su cuadrado es 25\n",
            "mi numero es 6 y su cuadrado es 36\n",
            "mi numero es 7 y su cuadrado es 49\n",
            "mi numero es 8 y su cuadrado es 64\n",
            "mi numero es 9 y su cuadrado es 81\n",
            "mi numero es 10 y su cuadrado es 100\n",
            "mi numero es 11 y su cuadrado es 121\n",
            "mi numero es 12 y su cuadrado es 144\n",
            "mi numero es 13 y su cuadrado es 169\n",
            "mi numero es 14 y su cuadrado es 196\n"
          ]
        }
      ]
    },
    {
      "cell_type": "code",
      "source": [
        "range?"
      ],
      "metadata": {
        "id": "FK2Q2MXWEUcV"
      },
      "execution_count": 31,
      "outputs": []
    },
    {
      "cell_type": "code",
      "source": [
        "x=10\n",
        "if x%2==0:\n",
        "  print(f'{x} es par')\n",
        "else:\n",
        "  print(f'{x} es impar')"
      ],
      "metadata": {
        "colab": {
          "base_uri": "https://localhost:8080/"
        },
        "id": "TRcLBKPSEYds",
        "outputId": "896c04aa-975c-48ae-d6fc-1cd65aea2083"
      },
      "execution_count": 33,
      "outputs": [
        {
          "output_type": "stream",
          "name": "stdout",
          "text": [
            "10 es par\n"
          ]
        }
      ]
    },
    {
      "cell_type": "code",
      "source": [
        "def mi_suma(a, b):\n",
        "  return a+b\n",
        "suma=mi_suma(4, -6)\n",
        "print(suma)"
      ],
      "metadata": {
        "colab": {
          "base_uri": "https://localhost:8080/"
        },
        "id": "MG5j0_RVFso8",
        "outputId": "6714bd0d-eaa4-433a-ed6c-2633893927fe"
      },
      "execution_count": 34,
      "outputs": [
        {
          "output_type": "stream",
          "name": "stdout",
          "text": [
            "-2\n"
          ]
        }
      ]
    },
    {
      "cell_type": "code",
      "source": [
        "def es_par(x):\n",
        "  if x%2==0:\n",
        "    z=(f'{x} es par')\n",
        "  else:\n",
        "    z=(f'{x} es impar')\n",
        "  return z\n",
        "\n",
        "es_par(232)"
      ],
      "metadata": {
        "colab": {
          "base_uri": "https://localhost:8080/",
          "height": 35
        },
        "id": "DmA0Hh2GF78Z",
        "outputId": "378fb0cc-b8b3-4935-985d-53d0e59a8836"
      },
      "execution_count": 35,
      "outputs": [
        {
          "output_type": "execute_result",
          "data": {
            "text/plain": [
              "'232 es par'"
            ],
            "application/vnd.google.colaboratory.intrinsic+json": {
              "type": "string"
            }
          },
          "metadata": {},
          "execution_count": 35
        }
      ]
    },
    {
      "cell_type": "code",
      "source": [
        "lista_numeros=[3,6,1,0,9,12,15,17]"
      ],
      "metadata": {
        "id": "YNiOekZYF8CC"
      },
      "execution_count": 37,
      "outputs": []
    },
    {
      "cell_type": "code",
      "source": [
        "for i in lista_numeros:\n",
        "  print(es_par(i))"
      ],
      "metadata": {
        "colab": {
          "base_uri": "https://localhost:8080/"
        },
        "id": "DGmHunyLGl1h",
        "outputId": "062a2578-c22d-4587-e6a3-f7a9557bb9f6"
      },
      "execution_count": 38,
      "outputs": [
        {
          "output_type": "stream",
          "name": "stdout",
          "text": [
            "3 es impar\n",
            "6 es par\n",
            "1 es impar\n",
            "0 es par\n",
            "9 es impar\n",
            "12 es par\n",
            "15 es impar\n",
            "17 es impar\n"
          ]
        }
      ]
    },
    {
      "cell_type": "markdown",
      "source": [
        "**Mi nombre es: David Felipe Zabala Castañeda**"
      ],
      "metadata": {
        "id": "bA2YiOhvG4TN"
      }
    }
  ]
}